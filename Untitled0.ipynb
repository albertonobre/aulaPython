{
  "nbformat": 4,
  "nbformat_minor": 0,
  "metadata": {
    "colab": {
      "provenance": [],
      "authorship_tag": "ABX9TyOfEl+OLlOtVMycu9IErGv7",
      "include_colab_link": true
    },
    "kernelspec": {
      "name": "python3",
      "display_name": "Python 3"
    },
    "language_info": {
      "name": "python"
    }
  },
  "cells": [
    {
      "cell_type": "markdown",
      "metadata": {
        "id": "view-in-github",
        "colab_type": "text"
      },
      "source": [
        "<a href=\"https://colab.research.google.com/github/albertonobre/aulaPython/blob/main/Untitled0.ipynb\" target=\"_parent\"><img src=\"https://colab.research.google.com/assets/colab-badge.svg\" alt=\"Open In Colab\"/></a>"
      ]
    },
    {
      "cell_type": "code",
      "source": [
        "from bs4 import BeautifulSoup\n",
        "import requests\n",
        "\n",
        "url = \"https://www.capivararota.com/\"\n",
        "\n",
        "page = requests.get(url)\n",
        "\n",
        "print(page)\n",
        "\n",
        "soup = BeautifulSoup(page.text, 'html')\n",
        "\n",
        "meta = soup.find_all('meta')\n",
        "\n",
        "for x in meta:\n",
        "  print(x)\n"
      ],
      "metadata": {
        "id": "-d2pVMlmAeT3"
      },
      "execution_count": null,
      "outputs": []
    },
    {
      "cell_type": "code",
      "source": [
        "from bs4 import BeautifulSoup\n",
        "import requests"
      ],
      "metadata": {
        "id": "Og2BLLmF_Wp5"
      },
      "execution_count": 18,
      "outputs": []
    },
    {
      "cell_type": "code",
      "execution_count": 32,
      "metadata": {
        "id": "GEiX83JQu2Lb"
      },
      "outputs": [],
      "source": [
        "url = 'https://www.scrapethissite.com/pages/forms'\n",
        "\n",
        "page = requests.get(url)\n",
        "#print(page) # trás o código <Reponse [200]> se deu certo\n",
        "\n"
      ]
    },
    {
      "cell_type": "code",
      "source": [
        "soup = BeautifulSoup(page.text , 'html')\n",
        "\n",
        "print(soup)\n"
      ],
      "metadata": {
        "id": "21akQG-u_nDJ"
      },
      "execution_count": null,
      "outputs": []
    },
    {
      "cell_type": "code",
      "source": [
        "\n",
        "title = soup.find_all('title')\n",
        "print(title)\n",
        "\n",
        "tabela = soup.find('table')\n",
        "tr_titulos = tabela.find('tr')\n",
        "\n",
        "print(tr_titulos)\n"
      ],
      "metadata": {
        "id": "uDRsC17s_syx"
      },
      "execution_count": null,
      "outputs": []
    },
    {
      "cell_type": "code",
      "source": [
        "team = soup.find_all(\"td\" , class_='name')\n",
        "#print(team)\n",
        "\n",
        "nomesTimes = [x.text.strip() for x in team]  # \"x.text.strip()\" : recorta somente os textos, não tras a tag html\n",
        "print(nomesTimes)\n",
        "for x in nomesTimes:\n",
        "  print(x)\n"
      ],
      "metadata": {
        "id": "HrH4Bn5yHTKw"
      },
      "execution_count": null,
      "outputs": []
    },
    {
      "cell_type": "code",
      "source": [],
      "metadata": {
        "id": "bx2-aiIoSgF2"
      },
      "execution_count": null,
      "outputs": []
    }
  ]
}