{
  "nbformat": 4,
  "nbformat_minor": 0,
  "metadata": {
    "colab": {
      "provenance": [],
      "authorship_tag": "ABX9TyMZyBMLW3kgUfLpRRae/v47",
      "include_colab_link": true
    },
    "kernelspec": {
      "name": "python3",
      "display_name": "Python 3"
    },
    "language_info": {
      "name": "python"
    }
  },
  "cells": [
    {
      "cell_type": "markdown",
      "metadata": {
        "id": "view-in-github",
        "colab_type": "text"
      },
      "source": [
        "<a href=\"https://colab.research.google.com/github/albertonobre/aulaPython/blob/main/Untitled2.ipynb\" target=\"_parent\"><img src=\"https://colab.research.google.com/assets/colab-badge.svg\" alt=\"Open In Colab\"/></a>"
      ]
    },
    {
      "cell_type": "code",
      "execution_count": null,
      "metadata": {
        "id": "M7jyRj5TGYMC"
      },
      "outputs": [],
      "source": [
        "import pandas as pd\n",
        "import numpy as np\n",
        "import matplotlib.pyplot as plt\n",
        "\n",
        "planilha1 = '/content/vendas1.xlsx'\n",
        "planilha2 = '/content/vendas2.xlsx'\n",
        "planilha3 = '/content/vendas3.xlsx'\n",
        "\n",
        "plan1 = pd.read_excel(planilha1)\n",
        "plan2 = pd.read_excel(planilha2)\n",
        "plan3 = pd.read_excel(planilha3)\n",
        "\n",
        "#print(plan1)\n",
        "\n",
        "juntandoTudo = pd.concat([plan1,plan2,plan3])\n",
        "\n",
        "#print(juntandoTudo)\n",
        "#print(juntandoTudo['PRODUTOS'])\n",
        "\n",
        "totalDeVendas = juntandoTudo.groupby(['VENDEDOR']).sum()\n",
        "\n",
        "print(totalDeVendas['PREÇO'])\n",
        "print(totalDeVendas.plot(kind='bar'))\n"
      ]
    }
  ]
}